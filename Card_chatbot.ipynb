{
 "cells": [
  {
   "cell_type": "markdown",
   "metadata": {},
   "source": [
    "## RAG가 없는 gpt-3.5-turbo 모델"
   ]
  },
  {
   "cell_type": "code",
   "execution_count": 26,
   "metadata": {},
   "outputs": [],
   "source": [
    "from openai import OpenAI\n",
    "from getpass import getpass\n",
    "import json\n",
    "import re\n",
    "from tqdm import tqdm"
   ]
  },
  {
   "cell_type": "code",
   "execution_count": 4,
   "metadata": {},
   "outputs": [],
   "source": [
    "# 개인의 API key를 입력\n",
    "MY_API_KEY = getpass(\"OpenAI API Key\")\n",
    "\n",
    "#OpenAI 객체 생성\n",
    "client = OpenAI(api_key=MY_API_KEY)"
   ]
  },
  {
   "cell_type": "code",
   "execution_count": 5,
   "metadata": {},
   "outputs": [],
   "source": [
    "with open('data/check_card_info-ver-4.json', 'r', encoding='utf-8') as json_file:\n",
    "    check_card_data = json.load(json_file)\n",
    "\n",
    "with open('data/credit_card_info-ver-4.json', 'r', encoding='utf-8') as json_file:\n",
    "    credit_card_data = json.load(json_file)"
   ]
  },
  {
   "cell_type": "markdown",
   "metadata": {},
   "source": [
    "#### ※ gpt-3.5-model로 15번의 응답 저장(RAG X) : 프롬프트 고도화만 진행"
   ]
  },
  {
   "cell_type": "code",
   "execution_count": 49,
   "metadata": {},
   "outputs": [],
   "source": [
    "base_template = f'''다음은 카드 추천 양식입니다.\n",
    "    세부적인 설명이 없을 때는 데이터의 가장 첫번째 카드(1위)로 추천합니다.\n",
    "\n",
    "    카드의 추천 양식은 아래의 양식을 참고하십시오.\n",
    "\n",
    "    1. 추천카드의 이름, 혜택요약, 연회비 순서로 작성하십시오.\n",
    "        1-1. 주요 혜택이 사용자의 어떤 습관과 연관이 있는지 순서 쌍으로 작성하십시오.\n",
    "        1-2. 주요 혜택 중 연관이 없는 나머지 혜택에 대해 작성하십시오.\n",
    "        \n",
    "    1번의 예시입니다.\n",
    "    - 추천 카드 : **KB국민 My WE:SH 카드**\n",
    "    - 혜택 요약 : KB Pay 10% 할인, 음식점 10% 할인, 서비스팩 3개 중 1개 선택할인\n",
    "    - 연회비: 국내전용 15,000원 - 모바일단독카드 9,000원, 해외겸용 15,000원 - 모바일단독카드 9,000원\n",
    "    \n",
    "    - 주요 혜택(매칭) :\n",
    "            음식점 10% 할인) 사용자가 점심을 회사 근처 맛집에서 자주 먹기 때문에 음식점 할인 혜택이 있는 카드가 유리합니다.\n",
    "            이동수단 10% 할인) 사용자가 주 5일 버스로 회사를 출퇴근하기 때문에 이동수단에 할인이 있는 카드를 추천합니다.\n",
    "\n",
    "    - 매칭되지 않은 혜택: KB Pay 10% 할인, 서비스팩 3개 중 1개 선택할인 \n",
    "\n",
    "    2. 다음으로 카드의 전반적인 평가에 대해 작성하십시오.\n",
    "        2-1. 추천 카드의 혜택 이외에 고려할만한 혜택에 대해 추가 작성하십시오.\n",
    "\n",
    "    2번의 예시입니다.\n",
    "\n",
    "    이 카드는 음식점 할인, 통신요금 할인 및 디지털 구독 서비스 할인을 제공하여 사용자의 생활 습관과 잘 맞습니다. 또한, 해외 결제에 대한 혜택이 포함되어 있어 해외 웹툰 구매에도 유리할 수 있습니다.\n",
    "    추가로 이 사용자의 생활 습관과 필요에 가장 적합한 신용카드를 추천하기 위해 다음과 같은 혜택을 고려할 수 있습니다:\n",
    "\n",
    "    1) **주유 할인 또는 적립**: 자차를 이용해 출퇴근하고 주말 드라이브를 즐기므로 주유 할인이나 적립 혜택이 있는 카드가 적합합니다.\n",
    "    2) **해외 웹툰 구매 혜택**: 해외 웹툰 구매를 즐기므로 해외 결제에 대한 할인이나 적립 혜택이 있는 카드가 좋습니다.\n",
    "    3) **건강 및 웰니스 혜택**: 요가와 필라테스를 주기적으로 하며 유기농 식재료를 사용하므로 건강 및 웰니스 관련 혜택이 있는 카드가 유용합니다.\n",
    "    4) **여행 혜택**: 부모님과의 여행 계획이 있으므로 여행 관련 혜택이 포함된 카드가 도움이 될 수 있습니다.\n",
    "\n",
    "    ---------------------------------------------------------------------------------------------------------------------------------------\n",
    "    ※※**추천 작성 시 주의사항** : \n",
    "    1. 주요 혜택 매칭을 할 때, 사용자의 습관의 카테고리와 주요 혜택과 연관된 걸 우선적으로 보고, 주요 혜택의 세부 설명에 연관된 걸 찾아줘\n",
    "\n",
    "    안좋은 예시) 건강식을 자주 만들어 가족과 함께 식사를 즐기는 사용자에게는 마일리지 적립 혜택이 유용합니다.\n",
    "    건강식이랑 마일리지는 직접적인 연관이 없습니다.\n",
    "\n",
    "    2. 사용자 소비 패턴에 따른 논리적 연결 강화\n",
    "    단순히 특정 카테고리를 소비한다고 해서 무조건 그 혜택을 추천하는 것이 아니라, 소비 동기와 실제 혜택 활용 가능성을 고려해야 합니다.\n",
    "\n",
    "    \"사용자의 소비 패턴과 혜택의 실제 활용 가능성을 고려하여 추천하라.\"\n",
    "    \"사용자가 특정 카테고리를 자주 소비하더라도, 그 소비 방식(예: 온라인/오프라인, 정기적/비정기적)이 혜택과 적절히 매칭되는지 검토하라.\"\n",
    "\n",
    "    💡 예시 적용:\n",
    "\n",
    "    \"자택에서 식사하며 음식 재료를 온라인으로 구매하는 사용자는 음식점 할인보다 온라인 마트/배달 할인 혜택이 적합하다.\"\n",
    "    \"대도시 외곽에서 출퇴근하는 사용자는 대중교통 이용이 많다면 교통비 할인, 자가용 이용이 많다면 주유 할인 혜택이 유용하다.\"\n",
    "\n",
    "    **그리고 카드 데이터의 없는 헤택을 만들어내지 마십시오. 추천할만한 카드가 없으면 그나마 비슷한 혜택의 카드를 가져와주세요**'''"
   ]
  },
  {
   "cell_type": "code",
   "execution_count": 88,
   "metadata": {},
   "outputs": [],
   "source": [
    "def recommend_my_model(check_card_data, credit_card_data, recommend_template):\n",
    "    # 체크카드와 신용카드를 한번에 넣게 되면 토큰 수가 초과되기 때문에 if-elif-else 문으로 종류별 구분하여 실행\n",
    "    # 체크카드와 신용카드의 구분 가이드\n",
    "    content = f'''당신은 소비 패턴을 분석하는 카드 추천 전문가입니다. 사용자의 소비 습관에 맞춰 가장 효율적인 카드를 추천합니다. \n",
    "    질문을 고려하여 체크카드 또는 신용카드를 추천해야 하며, \n",
    "    신용카드의 추천기준으로는\n",
    "\n",
    "    **소득 안정성**: 신용카드는 신용도에 따라 한도가 설정되기 때문에, 정기적이고 안정적인 소득을 가진 사람이 적합합니다. 예를 들어, 월급을 받는 직장인이나 사업자가 이에 해당합니다.\n",
    "    포인트/혜택 활용: 다양한 포인트 적립, 캐시백, 할인 혜택을 활용할 수 있습니다. 예를 들어, 자주 쇼핑을 하거나 여행을 즐기는 경우, 해당 분야에 특화된 혜택을 제공하는 카드를 추천할 수 있습니다.\n",
    "    지출 관리 능력: 신용카드는 일정 기간 동안 결제하고 나중에 상환하는 방식이므로, 지출 관리 능력이 중요한 요소입니다. 월별로 계획적인 예산을 세우고, 적시에 결제할 수 있는 능력이 있는 사람에게 적합합니다.\n",
    "    일시불/분할결제 선호도: 일시불 결제 또는 분할 결제 혜택을 선호하는 경우, 해당 조건을 잘 반영한 카드를 추천해야 합니다. 예를 들어, 고급 소비 성향이나 큰 금액의 지출을 분할 상환할 필요가 있는 경우 유리합니다.\n",
    "\n",
    "    체크카드의 추천기준으로는\n",
    "\n",
    "    **재정 관리 중요성**: 체크카드는 계좌에 있는 한도 내에서만 결제가 가능하므로, 소비를 통제하고 싶은 사람에게 적합합니다. 신용카드에 비해 즉시 결제되기 때문에 과도한 지출을 피하고 싶은 사람에게 유리합니다.\n",
    "    매일 자주 사용하는 카드: 일상적인 소비에서 작고 빈번한 지출이 많은 사람에게 적합합니다. 예를 들어, 카페, 편의점, 대중교통 등에서 자주 결제하는 소비 성향이라면 체크카드가 적합할 수 있습니다.\n",
    "    상환 부담을 피하고 싶은 사람: 신용카드는 대금 결제 후 일시불이나 할부 상환 방식을 선택해야 하지만, 체크카드는 즉시 결제되므로 상환에 대한 부담이 없습니다. 이로 인해 상환 계획 없이 즉시 결제가 가능한 카드를 원하는 소비자에게 유리합니다.\n",
    "    간편한 관리 선호자: 체크카드는 신용카드에 비해 관리가 간편하고, 과소비를 방지하기 위해 필요한 사람에게 적합합니다.\n",
    "    직업이 없는 사람(무직, 백수)는 체크카드가 적합합니다.\n",
    "\n",
    "    기타 고려 사항으로\n",
    "    **연회비 부담**: 신용카드는 카드사마다 연회비가 다르기 때문에 연회비가 부담스러운 사람은 혜택이 좋은 체크카드를 추천할 수 있습니다.\n",
    "    적립 혜택 및 할인율: 신용카드는 다양한 적립 프로그램과 할인 혜택이 있지만, 혜택을 자주 활용하지 않는 소비자에게는 체감 혜택이 적을 수 있으므로 이 점도 고려해야 합니다.\n",
    "\n",
    "    **답변은 단답으로 정확히 체크카드 아니면 신용카드 로만 대답하십시오.**'''\n",
    "\n",
    "\n",
    "    # 체크카드 추천 챗봇의 페르소나\n",
    "    check_content = f'''당신은 체크카드 추천 전문가입니다. 사용자의 소비 습관에 맞춰 가장 효율적인 카드를 추천합니다.\n",
    "    다음 주어지는 체크카드 파일 중에서 추천해야 합니다.\n",
    "    체크카드 : {check_card_data}\n",
    "    작성 양식 : {recommend_template}'''\n",
    "\n",
    "\n",
    "    # 신용카드 추천 챗봇의 페르소나\n",
    "    credit_content = f'''당신은 신용카드 추천 전문가입니다. 사용자의 습관에 맞춰 가장 효율적인 카드를 추천합니다.\n",
    "    다음 주어지는 신용카드 파일 중에서 추천해야 합니다.\n",
    "    신용카드 : {credit_card_data}\n",
    "    작성 양식 : {recommend_template}'''\n",
    "\n",
    "\n",
    "    # 카드 추천을 받을 유저 페르소나\n",
    "    user_content = '''28세 사회 초년생으로, 매일 출근 전 오전 8시에 스타벅스에서 커피를 사며, 출근 할 때 스트리밍서비스를 주로 시청하며 이동한다. 주말에는 쇼핑이 주된 취미이며, 1달에 2박3일정도 해외여행을 다닌다.\n",
    "    '''\n",
    "\n",
    "    # 유저의 페르소나를 탐색하여 먼저 체크카드를 추천해야할지, 신용카드를 추천해야할지 선정\n",
    "    choice = client.chat.completions.create(model='gpt-3.5-turbo',\n",
    "                                                messages=[{'role':'system','content':content},\n",
    "                                                        {'role':'user','content':user_content}],\n",
    "                                                        temperature=0)\n",
    "\n",
    "    # 신용카드 또는 체크카드를 what_card에 저장\n",
    "    what_card = choice.choices[0].message.content\n",
    "    print(f'{what_card}')\n",
    "\n",
    "    # what_card의 결과에 따라 체크 or 신용 카드를 추천\n",
    "    if what_card == '체크카드':\n",
    "        completion = client.chat.completions.create(model='gpt-3.5-turbo',\n",
    "                                                messages=[{'role':'system','content':check_content},\n",
    "                                                        {'role':'user','content':user_content}],\n",
    "                                                        temperature=0)\n",
    "    elif what_card == '신용카드':\n",
    "        completion = client.chat.completions.create(model='gpt-3.5-turbo',\n",
    "                                                messages=[{'role':'system','content':credit_content},\n",
    "                                                        {'role':'user','content':user_content}],\n",
    "                                                        temperature=0)\n",
    "\n",
    "    return completion.choices[0].message.content"
   ]
  },
  {
   "cell_type": "code",
   "execution_count": null,
   "metadata": {},
   "outputs": [],
   "source": [
    "# pairwise_eval에 넣을 15개의 답변\n",
    "answer_a = [recommend_my_model(check_card_data, credit_card_data, base_template) for _ in tqdm(range(15))]"
   ]
  },
  {
   "cell_type": "code",
   "execution_count": 132,
   "metadata": {},
   "outputs": [
    {
     "name": "stdout",
     "output_type": "stream",
     "text": [
      "**추천 카드 : American Express Blue**\n",
      "\n",
      "- 혜택 요약 : 해외 5% 적립, 교통·통신 5% 적립, 편의점·배달앱 7% 적립\n",
      "- 연회비 : 해외겸용 15,000원\n",
      "\n",
      "- 주요 혜택(매칭) :\n",
      "    - **카페**: 스타벅스·이디야 20% 결제일 할인\n",
      "    - **디지털구독**: 스트리밍서비스 50% 결제일 할인\n",
      "\n",
      "- 매칭되지 않은 혜택: 쇼핑 1.5% 멤버십리워즈 적립\n",
      "\n",
      "**전반적인 평가**:\n",
      "이 카드는 스타벅스에서의 커피 구매와 스트리밍 서비스 이용에 대한 할인 혜택을 제공하여 사용자의 일상 생활과 잘 맞습니다. 또한, 해외에서의 쇼핑과 여행에 대한 혜택도 있어 주말 쇼핑과 해외여행에 유용할 것입니다. 추가로, 해외에서의 이용에 대한 5% 멤버십리워즈 적립 혜택이 있어 해외여행 시 추가 혜택을 누릴 수 있습니다.\n"
     ]
    }
   ],
   "source": [
    "print(answer_a[10])"
   ]
  },
  {
   "cell_type": "markdown",
   "metadata": {},
   "source": [
    "#### ※ GPT-4o 모델의 결과 똑같은 텍스트로 15번 받아가기"
   ]
  },
  {
   "cell_type": "code",
   "execution_count": 10,
   "metadata": {},
   "outputs": [
    {
     "name": "stdout",
     "output_type": "stream",
     "text": [
      "신용카드\n"
     ]
    },
    {
     "data": {
      "text/plain": [
       "\"사용자의 소비 습관에 맞춰 가장 효율적인 카드는 'American Express Blue' 카드입니다. 이 카드는 다음과 같은 혜택을 제공합니다:\\n\\n- 스타벅스와 이디야에서 20% 결제일 할인을 받을 수 있어 매일 아침 커피 구매에 유리합니다.\\n- 스트리밍 서비스에 대해 20% 결제일 할인을 제공하여 출근 시 스트리밍 시청에 적합합니다.\\n- 해외 이용 시 5% 멤버십 리워즈 적립이 가능하여 해외여행 시에도 혜택을 받을 수 있습니다.\\n- 쇼핑 시 1.5% 멤버십 리워즈 적립이 가능하여 주말 쇼핑 취미에도 적합합니다.\\n\\n이 카드는 사용자의 주요 소비 패턴에 맞춰 다양한 혜택을 제공하므로 추천드립니다.\""
      ]
     },
     "execution_count": 10,
     "metadata": {},
     "output_type": "execute_result"
    }
   ],
   "source": [
    "content = f'''사용자의 소비 습관에 맞춰 가장 효율적인 카드를 추천합니다. \n",
    "질문을 고려하여 체크카드 또는 신용카드를 추천해야 합니다.\n",
    "\n",
    "**답변은 단답으로 정확히 체크카드 아니면 신용카드 로만 대답하십시오.**'''\n",
    "\n",
    "check_content = f'''사용자의 소비 습관에 맞춰 가장 효율적인 카드 1개를 추천합니다.\n",
    "다음 주어지는 체크카드 파일 중에서 추천해야 합니다.\n",
    "체크카드 : {check_card_data}'''\n",
    "\n",
    "credit_content = f'''사용자의 습관에 맞춰 가장 효율적인 카드 1개를 추천합니다.\n",
    "다음 주어지는 신용카드 파일 중에서 추천해야 합니다.\n",
    "신용카드 : {credit_card_data}'''\n",
    "\n",
    "\n",
    "# 카드 추천을 받을 유저 페르소나\n",
    "user_content = '''28세 사회 초년생으로, 매일 출근 전 오전 8시에 스타벅스에서 커피를 사며, 출근 할 때 스트리밍서비스를 주로 시청하며 이동한다. 주말에는 쇼핑이 주된 취미이며, 1달에 2박3일정도 해외여행을 다닌다.\n",
    "'''\n",
    "\n",
    "# 유저의 페르소나를 탐색하여 먼저 체크카드를 추천해야할지, 신용카드를 추천해야할지 선정\n",
    "choice = client.chat.completions.create(model='gpt-4o',\n",
    "                                            messages=[{'role':'system','content':content},\n",
    "                                                      {'role':'user','content':user_content}],\n",
    "                                                      temperature=0)\n",
    "\n",
    "# 신용카드 또는 체크카드를 what_card에 저장\n",
    "what_card = choice.choices[0].message.content\n",
    "print(f'{what_card}')\n",
    "\n",
    "# what_card의 결과에 따라 체크 or 신용 카드를 추천\n",
    "if what_card == '체크카드':\n",
    "    completion = client.chat.completions.create(model='gpt-4o',\n",
    "                                            messages=[{'role':'system','content':check_content},\n",
    "                                                      {'role':'user','content':user_content}],\n",
    "                                                      temperature=0)\n",
    "elif what_card == '신용카드':\n",
    "    completion = client.chat.completions.create(model='gpt-4o',\n",
    "                                            messages=[{'role':'system','content':credit_content},\n",
    "                                                      {'role':'user','content':user_content}],\n",
    "                                                      temperature=0)\n",
    "\n",
    "completion.choices[0].message.content"
   ]
  },
  {
   "cell_type": "code",
   "execution_count": 11,
   "metadata": {},
   "outputs": [],
   "source": [
    "# 같은 데이터로 15번 반복 저장\n",
    "gpt4o_recommend = completion.choices[0].message.content\n",
    "answer_b = [gpt4o_recommend for _ in range(15)]"
   ]
  },
  {
   "cell_type": "code",
   "execution_count": 12,
   "metadata": {},
   "outputs": [
    {
     "name": "stdout",
     "output_type": "stream",
     "text": [
      "사용자의 소비 습관에 맞춰 가장 효율적인 카드는 'American Express Blue' 카드입니다. 이 카드는 다음과 같은 혜택을 제공합니다:\n",
      "\n",
      "- 스타벅스와 이디야에서 20% 결제일 할인을 받을 수 있어 매일 아침 커피 구매에 유리합니다.\n",
      "- 스트리밍 서비스에 대해 20% 결제일 할인을 제공하여 출근 시 스트리밍 시청에 적합합니다.\n",
      "- 해외 이용 시 5% 멤버십 리워즈 적립이 가능하여 해외여행 시에도 혜택을 받을 수 있습니다.\n",
      "- 쇼핑 시 1.5% 멤버십 리워즈 적립이 가능하여 주말 쇼핑 취미에도 적합합니다.\n",
      "\n",
      "이 카드는 사용자의 주요 소비 패턴에 맞춰 다양한 혜택을 제공하므로 추천드립니다.\n"
     ]
    }
   ],
   "source": [
    "print(answer_b[0])"
   ]
  },
  {
   "cell_type": "markdown",
   "metadata": {},
   "source": [
    "### pairwise_eval 함수로 평가를 15번 반복\n",
    "- 내 모델 3.5-turbo\n",
    "- 비교 모델 4o"
   ]
  },
  {
   "cell_type": "code",
   "execution_count": 165,
   "metadata": {},
   "outputs": [],
   "source": [
    "# 2개의 모델이 요약한 내용을 비교 평가하는 함수\n",
    "def pairwise_eval(answer_a, answer_b):\n",
    "    eval_prompt = f\"\"\"[System]  \n",
    "Please act as an impartial judge and evaluate the quality of the responses provided by two AI assistants regarding the credit card recommendation displayed below. You should determine which assistant follows the user’s instructions and provides a better recommendation.  \n",
    "\n",
    "Your evaluation should consider factors such as:  \n",
    "- **Relevance**: How well the response matches the user's needs and profile.  \n",
    "- **Helpfulness**: Whether the response provides clear, practical, and useful information.  \n",
    "- **Accuracy**: Whether the provided details about the card benefits are correct.  \n",
    "- **Depth**: Whether the explanation sufficiently justifies why the card is recommended.  \n",
    "- **Clarity**: Whether the response is structured and easy to understand.  \n",
    "- **Hallucination Check**: Verify whether the card details mentioned are from actual, existing credit cards listed in our database ({check_card_data} or {credit_card_data}). Ensure that no fake or hallucinated cards are recommended.\n",
    "\n",
    "Avoid biases based on response order and ensure that length does not influence your evaluation. Do not favor certain assistant names. Be as objective as possible.  \n",
    "\n",
    "### **Credit Card Recommendation Comparison**  \n",
    "[User Profile & Needs]  \n",
    "The user is looking for a credit card recommendation based on their spending habits.  \n",
    "\n",
    "[Assistant A’s Response]  \n",
    "{answer_a}  \n",
    "\n",
    "[Assistant B’s Response]  \n",
    "{answer_b}  \n",
    "\n",
    "### **Evaluation Criteria & Final Decision**  \n",
    "Compare the responses and provide a short explanation regarding which one better aligns with the user's needs. Consider the relevance, helpfulness, accuracy, depth, clarity, and whether any hallucinated information is present in the card details.  \n",
    "\n",
    "After providing your explanation, output your final verdict using one of the following formats:  \n",
    "- **\"[[A]]\"** if Assistant A’s response is better.  \n",
    "- **\"[[B]]\"** if Assistant B’s response is better.  \n",
    "- **\"[[C]]\"** if both responses are equally good.  \n",
    "\"\"\"\n",
    "    \n",
    "    completion = client.chat.completions.create(model='gpt-4o',\n",
    "                                                messages=[{'role':'user','content':eval_prompt}],\n",
    "                                                temperature=0)\n",
    "    \n",
    "    return completion\n",
    "\n",
    "def pairwise_eval_batch(answer_a, answer_b):\n",
    "    a_cnt, b_cnt, c_cnt = 0, 0, 0 # 승, 패, 무\n",
    "\n",
    "    for i in tqdm(range(15)):\n",
    "        completion = pairwise_eval(answer_a[i], answer_b[i])\n",
    "        # gpt-4o가 평가한 결과에 대한 텍스트만 수집\n",
    "        result_text = completion.choices[0].message.content\n",
    "\n",
    "        if '[[A]]' in result_text: # gpt-3.5-turbo 모델이 더 추천을 잘함\n",
    "            a_cnt += 1\n",
    "        elif '[[B]]' in result_text: # gpt-4-turbo 모델이 더 추천을 잘함\n",
    "            b_cnt += 1\n",
    "        elif '[[C]]' in result_text: # 둘다 똑같음\n",
    "            c_cnt += 1\n",
    "        else:\n",
    "            print('Error')\n",
    "\n",
    "    return a_cnt, b_cnt, c_cnt"
   ]
  },
  {
   "cell_type": "code",
   "execution_count": 134,
   "metadata": {},
   "outputs": [
    {
     "name": "stderr",
     "output_type": "stream",
     "text": [
      "100%|██████████| 15/15 [02:55<00:00, 11.67s/it]"
     ]
    },
    {
     "name": "stdout",
     "output_type": "stream",
     "text": [
      "Wins : 4\n",
      "Losses : 11\n",
      "Ties : 0\n"
     ]
    },
    {
     "name": "stderr",
     "output_type": "stream",
     "text": [
      "\n"
     ]
    }
   ],
   "source": [
    "#3.5-turbo와 4o model의 비교 평가 진행\n",
    "wins, losess, ties = pairwise_eval_batch(answer_a, answer_b)\n",
    "print(f'Wins : {wins}\\nLosses : {losess}\\nTies : {ties}')"
   ]
  },
  {
   "cell_type": "code",
   "execution_count": 79,
   "metadata": {},
   "outputs": [
    {
     "name": "stdout",
     "output_type": "stream",
     "text": [
      "신용카드\n"
     ]
    }
   ],
   "source": [
    "recommned_1shot = recommend_my_model(check_card_data, credit_card_data, base_template)"
   ]
  },
  {
   "cell_type": "markdown",
   "metadata": {},
   "source": [
    "#### ※ gpt-3.5-model로 15번의 응답 저장(RAG X) : 1shot-learning"
   ]
  },
  {
   "cell_type": "code",
   "execution_count": 80,
   "metadata": {},
   "outputs": [],
   "source": [
    "template_1shot = f'''다음은 카드 추천 양식입니다.\n",
    "    세부적인 설명이 없을 때는 데이터의 가장 첫번째 카드(1위)로 추천합니다.\n",
    "\n",
    "    카드의 추천 양식은 아래의 양식을 참고하십시오.\n",
    "\n",
    "    1. 추천카드의 이름, 혜택요약, 연회비 순서로 작성하십시오.\n",
    "        1-1. 주요 혜택이 사용자의 어떤 습관과 연관이 있는지 순서 쌍으로 작성하십시오.\n",
    "        1-2. 주요 혜택 중 연관이 없는 나머지 혜택에 대해 작성하십시오.\n",
    "        \n",
    "    1번의 예시입니다.\n",
    "    - 추천 카드 : **KB국민 My WE:SH 카드**\n",
    "    - 혜택 요약 : KB Pay 10% 할인, 음식점 10% 할인, 서비스팩 3개 중 1개 선택할인\n",
    "    - 연회비: 국내전용 15,000원 - 모바일단독카드 9,000원, 해외겸용 15,000원 - 모바일단독카드 9,000원\n",
    "    \n",
    "    - 주요 혜택(매칭) :\n",
    "            음식점 10% 할인) 사용자가 점심을 회사 근처 맛집에서 자주 먹기 때문에 음식점 할인 혜택이 있는 카드가 유리합니다.\n",
    "            이동수단 10% 할인) 사용자가 주 5일 버스로 회사를 출퇴근하기 때문에 이동수단에 할인이 있는 카드를 추천합니다.\n",
    "\n",
    "    - 매칭되지 않은 혜택: KB Pay 10% 할인, 서비스팩 3개 중 1개 선택할인 \n",
    "\n",
    "    2. 다음으로 카드의 전반적인 평가에 대해 작성하십시오.\n",
    "        2-1. 추천 카드의 혜택 이외에 고려할만한 혜택에 대해 추가 작성하십시오.\n",
    "\n",
    "    2번의 예시입니다.\n",
    "\n",
    "    이 카드는 음식점 할인, 통신요금 할인 및 디지털 구독 서비스 할인을 제공하여 사용자의 생활 습관과 잘 맞습니다. 또한, 해외 결제에 대한 혜택이 포함되어 있어 해외 웹툰 구매에도 유리할 수 있습니다.\n",
    "    추가로 이 사용자의 생활 습관과 필요에 가장 적합한 신용카드를 추천하기 위해 다음과 같은 혜택을 고려할 수 있습니다:\n",
    "\n",
    "    1) **주유 할인 또는 적립**: 자차를 이용해 출퇴근하고 주말 드라이브를 즐기므로 주유 할인이나 적립 혜택이 있는 카드가 적합합니다.\n",
    "    2) **해외 웹툰 구매 혜택**: 해외 웹툰 구매를 즐기므로 해외 결제에 대한 할인이나 적립 혜택이 있는 카드가 좋습니다.\n",
    "    3) **건강 및 웰니스 혜택**: 요가와 필라테스를 주기적으로 하며 유기농 식재료를 사용하므로 건강 및 웰니스 관련 혜택이 있는 카드가 유용합니다.\n",
    "    4) **여행 혜택**: 부모님과의 여행 계획이 있으므로 여행 관련 혜택이 포함된 카드가 도움이 될 수 있습니다.\n",
    "\n",
    "    다음은 참고할 카드 추천 예시 입니다.\n",
    "\n",
    "    [카드 추천 예시]:\n",
    "    {recommned_1shot}\n",
    "\n",
    "    ---------------------------------------------------------------------------------------------------------------------------------------\n",
    "    ※※**추천 작성 시 주의사항** : \n",
    "    1. 주요 혜택 매칭을 할 때, 사용자의 습관의 카테고리와 주요 혜택과 연관된 걸 우선적으로 보고, 주요 혜택의 세부 설명에 연관된 걸 찾아줘\n",
    "\n",
    "    안좋은 예시) 건강식을 자주 만들어 가족과 함께 식사를 즐기는 사용자에게는 마일리지 적립 혜택이 유용합니다.\n",
    "    건강식이랑 마일리지는 직접적인 연관이 없습니다.\n",
    "\n",
    "    2. 사용자 소비 패턴에 따른 논리적 연결 강화\n",
    "    단순히 특정 카테고리를 소비한다고 해서 무조건 그 혜택을 추천하는 것이 아니라, 소비 동기와 실제 혜택 활용 가능성을 고려해야 합니다.\n",
    "\n",
    "    \"사용자의 소비 패턴과 혜택의 실제 활용 가능성을 고려하여 추천하라.\"\n",
    "    \"사용자가 특정 카테고리를 자주 소비하더라도, 그 소비 방식(예: 온라인/오프라인, 정기적/비정기적)이 혜택과 적절히 매칭되는지 검토하라.\"\n",
    "\n",
    "    💡 예시 적용:\n",
    "\n",
    "    \"자택에서 식사하며 음식 재료를 온라인으로 구매하는 사용자는 음식점 할인보다 온라인 마트/배달 할인 혜택이 적합하다.\"\n",
    "    \"대도시 외곽에서 출퇴근하는 사용자는 대중교통 이용이 많다면 교통비 할인, 자가용 이용이 많다면 주유 할인 혜택이 유용하다.\"\n",
    "\n",
    "    **그리고 카드 데이터의 없는 헤택을 만들어내지 마십시오. 추천할만한 카드가 없으면 그나마 비슷한 혜택의 카드를 가져와주세요**'''"
   ]
  },
  {
   "cell_type": "code",
   "execution_count": 81,
   "metadata": {},
   "outputs": [
    {
     "name": "stderr",
     "output_type": "stream",
     "text": [
      "  0%|          | 0/15 [00:00<?, ?it/s]"
     ]
    },
    {
     "name": "stdout",
     "output_type": "stream",
     "text": [
      "신용카드\n"
     ]
    },
    {
     "name": "stderr",
     "output_type": "stream",
     "text": [
      "  7%|▋         | 1/15 [00:06<01:33,  6.68s/it]"
     ]
    },
    {
     "name": "stdout",
     "output_type": "stream",
     "text": [
      "신용카드\n"
     ]
    },
    {
     "name": "stderr",
     "output_type": "stream",
     "text": [
      " 13%|█▎        | 2/15 [00:12<01:20,  6.21s/it]"
     ]
    },
    {
     "name": "stdout",
     "output_type": "stream",
     "text": [
      "신용카드\n"
     ]
    },
    {
     "name": "stderr",
     "output_type": "stream",
     "text": [
      " 20%|██        | 3/15 [00:18<01:12,  6.01s/it]"
     ]
    },
    {
     "name": "stdout",
     "output_type": "stream",
     "text": [
      "신용카드\n"
     ]
    },
    {
     "name": "stderr",
     "output_type": "stream",
     "text": [
      " 27%|██▋       | 4/15 [00:24<01:04,  5.89s/it]"
     ]
    },
    {
     "name": "stdout",
     "output_type": "stream",
     "text": [
      "신용카드\n"
     ]
    },
    {
     "name": "stderr",
     "output_type": "stream",
     "text": [
      " 33%|███▎      | 5/15 [00:29<00:58,  5.85s/it]"
     ]
    },
    {
     "name": "stdout",
     "output_type": "stream",
     "text": [
      "신용카드\n"
     ]
    },
    {
     "name": "stderr",
     "output_type": "stream",
     "text": [
      " 40%|████      | 6/15 [00:34<00:50,  5.57s/it]"
     ]
    },
    {
     "name": "stdout",
     "output_type": "stream",
     "text": [
      "신용카드\n"
     ]
    },
    {
     "name": "stderr",
     "output_type": "stream",
     "text": [
      " 47%|████▋     | 7/15 [00:40<00:44,  5.53s/it]"
     ]
    },
    {
     "name": "stdout",
     "output_type": "stream",
     "text": [
      "신용카드\n"
     ]
    },
    {
     "name": "stderr",
     "output_type": "stream",
     "text": [
      " 53%|█████▎    | 8/15 [00:47<00:42,  6.14s/it]"
     ]
    },
    {
     "name": "stdout",
     "output_type": "stream",
     "text": [
      "신용카드\n"
     ]
    },
    {
     "name": "stderr",
     "output_type": "stream",
     "text": [
      " 60%|██████    | 9/15 [00:53<00:35,  5.93s/it]"
     ]
    },
    {
     "name": "stdout",
     "output_type": "stream",
     "text": [
      "신용카드\n"
     ]
    },
    {
     "name": "stderr",
     "output_type": "stream",
     "text": [
      " 67%|██████▋   | 10/15 [01:20<01:03, 12.65s/it]"
     ]
    },
    {
     "name": "stdout",
     "output_type": "stream",
     "text": [
      "신용카드\n"
     ]
    },
    {
     "name": "stderr",
     "output_type": "stream",
     "text": [
      " 73%|███████▎  | 11/15 [01:26<00:41, 10.41s/it]"
     ]
    },
    {
     "name": "stdout",
     "output_type": "stream",
     "text": [
      "신용카드\n"
     ]
    },
    {
     "name": "stderr",
     "output_type": "stream",
     "text": [
      " 80%|████████  | 12/15 [01:32<00:27,  9.09s/it]"
     ]
    },
    {
     "name": "stdout",
     "output_type": "stream",
     "text": [
      "신용카드\n"
     ]
    },
    {
     "name": "stderr",
     "output_type": "stream",
     "text": [
      " 87%|████████▋ | 13/15 [01:37<00:15,  7.96s/it]"
     ]
    },
    {
     "name": "stdout",
     "output_type": "stream",
     "text": [
      "신용카드\n"
     ]
    },
    {
     "name": "stderr",
     "output_type": "stream",
     "text": [
      " 93%|█████████▎| 14/15 [01:43<00:07,  7.32s/it]"
     ]
    },
    {
     "name": "stdout",
     "output_type": "stream",
     "text": [
      "신용카드\n"
     ]
    },
    {
     "name": "stderr",
     "output_type": "stream",
     "text": [
      "100%|██████████| 15/15 [01:49<00:00,  7.33s/it]\n"
     ]
    },
    {
     "data": {
      "text/plain": [
       "'**추천 카드 : American Express Blue**\\n\\n- 혜택 요약 : 해외 5% 적립, 교통·통신 5% 적립, 편의점·배달앱 7% 적립\\n- 연회비 상세안내 : 해외겸용 15,000원\\n\\n- 주요 혜택(매칭) :\\n    - **카페**: 스타벅스·이디야 20% 결제일 할인\\n    - **디지털구독**: 스트리밍서비스 50% 결제일 할인\\n\\n- 매칭되지 않은 혜택: 쇼핑 1.5% 멤버십리워즈 적립, 해외 5% 멤버십리워즈 적립\\n\\n이 카드는 스타벅스에서 커피를 즐기는 것과 스트리밍 서비스를 이용하는 습관에 잘 맞습니다. 또한, 해외 여행을 즐기는 사용자에게 해외 적립 혜택이 유용할 것입니다. 추가로, 쇼핑이 주된 취미이므로 쇼핑 관련 멤버십리워즈 적립 혜택도 매력적입니다.'"
      ]
     },
     "execution_count": 81,
     "metadata": {},
     "output_type": "execute_result"
    }
   ],
   "source": [
    "# 1shot 답변으로 15번 진행\n",
    "answer_a_1shot = [recommend_my_model(check_card_data, credit_card_data, template_1shot) for _ in tqdm(range(15))]\n",
    "answer_a_1shot[7]"
   ]
  },
  {
   "cell_type": "code",
   "execution_count": 82,
   "metadata": {},
   "outputs": [
    {
     "name": "stdout",
     "output_type": "stream",
     "text": [
      "**추천 카드 : American Express Blue**\n",
      "\n",
      "- 혜택 요약 : 해외 5% 적립, 교통·통신 5% 적립, 편의점·배달앱 7% 적립\n",
      "- 연회비 상세안내 : 해외겸용 15,000원\n",
      "\n",
      "- 주요 혜택(매칭) :\n",
      "    - **카페**: 스타벅스·이디야 20% 결제일 할인\n",
      "    - **디지털구독**: 스트리밍서비스 50% 결제일 할인\n",
      "\n",
      "- 매칭되지 않은 혜택: 쇼핑 1.5% 멤버십리워즈 적립, 해외 5% 멤버십리워즈 적립\n",
      "\n",
      "이 카드는 스타벅스에서 커피를 즐기는 것과 스트리밍 서비스를 이용하는 습관에 잘 맞습니다. 또한, 해외 여행을 즐기는 사용자에게 해외 적립 혜택이 유용할 것입니다. 추가로, 쇼핑이 주된 취미이므로 쇼핑 관련 멤버십리워즈 적립 혜택도 매력적입니다.\n"
     ]
    }
   ],
   "source": [
    "print(answer_a_1shot[7])"
   ]
  },
  {
   "cell_type": "code",
   "execution_count": null,
   "metadata": {},
   "outputs": [
    {
     "name": "stderr",
     "output_type": "stream",
     "text": [
      "100%|██████████| 15/15 [02:11<00:00,  8.77s/it]"
     ]
    },
    {
     "name": "stdout",
     "output_type": "stream",
     "text": [
      "Wins : 15\n",
      "Losses : 0\n",
      "Ties : 0\n"
     ]
    },
    {
     "name": "stderr",
     "output_type": "stream",
     "text": [
      "\n"
     ]
    }
   ],
   "source": [
    "#3.5-turbo와 4o model의 비교 평가 진행(1shot)\n",
    "wins, losess, ties = pairwise_eval_batch(answer_a_1shot, answer_b)\n",
    "print(f'Wins : {wins}\\nLosses : {losess}\\nTies : {ties}')"
   ]
  },
  {
   "cell_type": "markdown",
   "metadata": {},
   "source": [
    "#### ※ 2shot은 이미 15승했고, 돈이 없어서 진행 x"
   ]
  },
  {
   "cell_type": "markdown",
   "metadata": {},
   "source": [
    "## RAG로 구현한 GPT-3.5-model"
   ]
  },
  {
   "cell_type": "markdown",
   "metadata": {},
   "source": [
    "### 1) 벡터화"
   ]
  },
  {
   "cell_type": "code",
   "execution_count": 32,
   "metadata": {},
   "outputs": [],
   "source": [
    "import json\n",
    "from sentence_transformers import SentenceTransformer\n",
    "import faiss\n",
    "import numpy as np\n",
    "import openai\n",
    "from getpass import getpass"
   ]
  },
  {
   "cell_type": "code",
   "execution_count": 33,
   "metadata": {},
   "outputs": [],
   "source": [
    "with open('data/check_card_info-ver-5.json', 'r', encoding='utf-8') as json_file:\n",
    "    check_card_data = json.load(json_file)\n",
    "\n",
    "with open('data/credit_card_info-ver-5.json', 'r', encoding='utf-8') as json_file:\n",
    "    credit_card_data = json.load(json_file)"
   ]
  },
  {
   "cell_type": "code",
   "execution_count": 107,
   "metadata": {},
   "outputs": [
    {
     "data": {
      "application/vnd.jupyter.widget-view+json": {
       "model_id": "3f6938ddb9de43729cddec0deac1a874",
       "version_major": 2,
       "version_minor": 0
      },
      "text/plain": [
       "modules.json:   0%|          | 0.00/387 [00:00<?, ?B/s]"
      ]
     },
     "metadata": {},
     "output_type": "display_data"
    },
    {
     "name": "stderr",
     "output_type": "stream",
     "text": [
      "c:\\Users\\every\\anaconda3\\envs\\new\\Lib\\site-packages\\huggingface_hub\\file_download.py:140: UserWarning: `huggingface_hub` cache-system uses symlinks by default to efficiently store duplicated files but your machine does not support them in C:\\Users\\every\\.cache\\huggingface\\hub\\models--intfloat--multilingual-e5-large. Caching files will still work but in a degraded version that might require more space on your disk. This warning can be disabled by setting the `HF_HUB_DISABLE_SYMLINKS_WARNING` environment variable. For more details, see https://huggingface.co/docs/huggingface_hub/how-to-cache#limitations.\n",
      "To support symlinks on Windows, you either need to activate Developer Mode or to run Python as an administrator. In order to activate developer mode, see this article: https://docs.microsoft.com/en-us/windows/apps/get-started/enable-your-device-for-development\n",
      "  warnings.warn(message)\n"
     ]
    },
    {
     "data": {
      "application/vnd.jupyter.widget-view+json": {
       "model_id": "fef5e70302e04dbbb884e123338833ff",
       "version_major": 2,
       "version_minor": 0
      },
      "text/plain": [
       "README.md:   0%|          | 0.00/160k [00:00<?, ?B/s]"
      ]
     },
     "metadata": {},
     "output_type": "display_data"
    },
    {
     "data": {
      "application/vnd.jupyter.widget-view+json": {
       "model_id": "9ee84a5c03ff4ab9916d3c09c1181774",
       "version_major": 2,
       "version_minor": 0
      },
      "text/plain": [
       "sentence_bert_config.json:   0%|          | 0.00/57.0 [00:00<?, ?B/s]"
      ]
     },
     "metadata": {},
     "output_type": "display_data"
    },
    {
     "data": {
      "application/vnd.jupyter.widget-view+json": {
       "model_id": "d4e6d4fe6e574c2e9ade5371f46384e4",
       "version_major": 2,
       "version_minor": 0
      },
      "text/plain": [
       "config.json:   0%|          | 0.00/690 [00:00<?, ?B/s]"
      ]
     },
     "metadata": {},
     "output_type": "display_data"
    },
    {
     "data": {
      "application/vnd.jupyter.widget-view+json": {
       "model_id": "13718a11507b45318367f60d5ec1ba56",
       "version_major": 2,
       "version_minor": 0
      },
      "text/plain": [
       "model.safetensors:   0%|          | 0.00/2.24G [00:00<?, ?B/s]"
      ]
     },
     "metadata": {},
     "output_type": "display_data"
    },
    {
     "data": {
      "application/vnd.jupyter.widget-view+json": {
       "model_id": "f120ef074e514fe3882ca495fab5a8e4",
       "version_major": 2,
       "version_minor": 0
      },
      "text/plain": [
       "tokenizer_config.json:   0%|          | 0.00/418 [00:00<?, ?B/s]"
      ]
     },
     "metadata": {},
     "output_type": "display_data"
    },
    {
     "data": {
      "application/vnd.jupyter.widget-view+json": {
       "model_id": "fdbfeaec94804d82afd61760dc51b1b4",
       "version_major": 2,
       "version_minor": 0
      },
      "text/plain": [
       "sentencepiece.bpe.model:   0%|          | 0.00/5.07M [00:00<?, ?B/s]"
      ]
     },
     "metadata": {},
     "output_type": "display_data"
    },
    {
     "data": {
      "application/vnd.jupyter.widget-view+json": {
       "model_id": "20184505048b4aa3bb8bfb03aa4ee102",
       "version_major": 2,
       "version_minor": 0
      },
      "text/plain": [
       "tokenizer.json:   0%|          | 0.00/17.1M [00:00<?, ?B/s]"
      ]
     },
     "metadata": {},
     "output_type": "display_data"
    },
    {
     "data": {
      "application/vnd.jupyter.widget-view+json": {
       "model_id": "50c09d724e3e4580abbe6c99f4626fbd",
       "version_major": 2,
       "version_minor": 0
      },
      "text/plain": [
       "special_tokens_map.json:   0%|          | 0.00/280 [00:00<?, ?B/s]"
      ]
     },
     "metadata": {},
     "output_type": "display_data"
    },
    {
     "data": {
      "application/vnd.jupyter.widget-view+json": {
       "model_id": "c2221d14063146da8f8889881ff454e3",
       "version_major": 2,
       "version_minor": 0
      },
      "text/plain": [
       "1_Pooling/config.json:   0%|          | 0.00/201 [00:00<?, ?B/s]"
      ]
     },
     "metadata": {},
     "output_type": "display_data"
    }
   ],
   "source": [
    "# 임베딩 모델 로드\n",
    "model = SentenceTransformer(\"intfloat/multilingual-e5-large\")"
   ]
  },
  {
   "cell_type": "code",
   "execution_count": 108,
   "metadata": {},
   "outputs": [],
   "source": [
    "# 벡터 저장할 리스트\n",
    "check_embeddings = []\n",
    "credit_embeddings = []\n",
    "\n",
    "# 카드명을 저장할 리스트\n",
    "check_card_names = []\n",
    "credit_card_names = []\n",
    "\n",
    "# 체크 카드 데이터를 벡터화\n",
    "for card in check_card_data:\n",
    "    check_text = card[\"혜택 요약\"]\n",
    "    check_vector = model.encode(check_text)\n",
    "    check_embeddings.append(check_vector)\n",
    "    check_card_names.append(card[\"카드명\"])\n",
    "\n",
    "for card in credit_card_data:\n",
    "    credit_text = card[\"혜택 요약\"]\n",
    "    credit_vector = model.encode(credit_text)\n",
    "    credit_embeddings.append(credit_vector)\n",
    "    credit_card_names.append(card[\"카드명\"])"
   ]
  },
  {
   "cell_type": "code",
   "execution_count": 109,
   "metadata": {},
   "outputs": [
    {
     "name": "stdout",
     "output_type": "stream",
     "text": [
      "신용 ) 임베딩의 길이 : 50\n",
      "카드명의 길이 : 50\n",
      "체크 )임베딩의 길이 : 50\n",
      "카드명의 길이 : 50\n"
     ]
    }
   ],
   "source": [
    "print(f'신용 ) 임베딩의 길이 : {len(check_embeddings)}\\n카드명의 길이 : {len(check_card_names)}')\n",
    "print(f'체크 )임베딩의 길이 : {len(credit_embeddings)}\\n카드명의 길이 : {len(credit_card_names)}')"
   ]
  },
  {
   "cell_type": "code",
   "execution_count": 110,
   "metadata": {},
   "outputs": [],
   "source": [
    "# 체크카드\n",
    "# FAISS에 저장\n",
    "check_dimension = len(check_embeddings[0])\n",
    "check_index = faiss.IndexFlatL2(check_dimension)\n",
    "check_index.add(np.array(check_embeddings))\n",
    "\n",
    "# FAISS 인덱스 저장\n",
    "faiss.write_index(check_index, \"VectorStores/check_card_embeddings.index\")\n",
    "\n",
    "# 카드명 매핑 저장\n",
    "with open(\"data/check_card_names.json\", \"w\", encoding=\"utf-8\") as f:\n",
    "    json.dump(check_card_names, f, ensure_ascii=False)\n",
    "\n",
    "# 신용카드\n",
    "# FAISS에 저장\n",
    "credit_dimension = len(credit_embeddings[0])\n",
    "credit_index = faiss.IndexFlatL2(credit_dimension)\n",
    "check_index.add(np.array(credit_embeddings))\n",
    "\n",
    "# FAISS 인덱스 저장\n",
    "faiss.write_index(credit_index, \"VectorStores/credit_card_embeddings.index\")\n",
    "\n",
    "# 카드명 매핑 저장\n",
    "with open(\"data/credit_card_names.json\", \"w\", encoding=\"utf-8\") as f:\n",
    "    json.dump(credit_card_names, f, ensure_ascii=False)"
   ]
  },
  {
   "cell_type": "markdown",
   "metadata": {},
   "source": [
    "### 2) 유사도 검색 / RAG 기반 응답 생성"
   ]
  },
  {
   "cell_type": "code",
   "execution_count": 112,
   "metadata": {},
   "outputs": [],
   "source": [
    "# 저장된 FAISS 인덱스 로드\n",
    "check_index = faiss.read_index(\"VectorStores/check_card_embeddings.index\")\n",
    "credit_index = faiss.read_index(\"VectorStores/credit_card_embeddings.index\")"
   ]
  },
  {
   "cell_type": "code",
   "execution_count": 113,
   "metadata": {},
   "outputs": [],
   "source": [
    "# 카드명 로드\n",
    "with open(\"data/check_card_names.json\", \"r\", encoding=\"utf-8\") as f:\n",
    "    check_card_names = json.load(f)\n",
    "\n",
    "with open(\"data/credit_card_names.json\", \"r\", encoding=\"utf-8\") as f:\n",
    "    credit_card_names = json.load(f)"
   ]
  },
  {
   "cell_type": "code",
   "execution_count": 114,
   "metadata": {},
   "outputs": [],
   "source": [
    "# 개인의 API key를 입력\n",
    "MY_API_KEY = getpass(\"OpenAI API Key\")\n",
    "\n",
    "#OpenAI 객체 생성\n",
    "client = OpenAI(api_key=MY_API_KEY)"
   ]
  },
  {
   "cell_type": "code",
   "execution_count": 115,
   "metadata": {},
   "outputs": [],
   "source": [
    "def recommend_whatcard(user_query):\n",
    "    content = f'''당신은 소비 패턴을 분석하는 카드 추천 전문가입니다. 사용자의 소비 습관에 맞춰 가장 효율적인 카드를 추천합니다. \n",
    "    질문을 고려하여 체크카드 또는 신용카드를 추천해야 하며, \n",
    "    신용카드의 추천기준으로는\n",
    "\n",
    "    **소득 안정성**: 신용카드는 신용도에 따라 한도가 설정되기 때문에, 정기적이고 안정적인 소득을 가진 사람이 적합합니다. 예를 들어, 월급을 받는 직장인이나 사업자가 이에 해당합니다.\n",
    "    포인트/혜택 활용: 다양한 포인트 적립, 캐시백, 할인 혜택을 활용할 수 있습니다. 예를 들어, 자주 쇼핑을 하거나 여행을 즐기는 경우, 해당 분야에 특화된 혜택을 제공하는 카드를 추천할 수 있습니다.\n",
    "    지출 관리 능력: 신용카드는 일정 기간 동안 결제하고 나중에 상환하는 방식이므로, 지출 관리 능력이 중요한 요소입니다. 월별로 계획적인 예산을 세우고, 적시에 결제할 수 있는 능력이 있는 사람에게 적합합니다.\n",
    "    일시불/분할결제 선호도: 일시불 결제 또는 분할 결제 혜택을 선호하는 경우, 해당 조건을 잘 반영한 카드를 추천해야 합니다. 예를 들어, 고급 소비 성향이나 큰 금액의 지출을 분할 상환할 필요가 있는 경우 유리합니다.\n",
    "\n",
    "    체크카드의 추천기준으로는\n",
    "\n",
    "    **재정 관리 중요성**: 체크카드는 계좌에 있는 한도 내에서만 결제가 가능하므로, 소비를 통제하고 싶은 사람에게 적합합니다. 신용카드에 비해 즉시 결제되기 때문에 과도한 지출을 피하고 싶은 사람에게 유리합니다.\n",
    "    매일 자주 사용하는 카드: 일상적인 소비에서 작고 빈번한 지출이 많은 사람에게 적합합니다. 예를 들어, 카페, 편의점, 대중교통 등에서 자주 결제하는 소비 성향이라면 체크카드가 적합할 수 있습니다.\n",
    "    상환 부담을 피하고 싶은 사람: 신용카드는 대금 결제 후 일시불이나 할부 상환 방식을 선택해야 하지만, 체크카드는 즉시 결제되므로 상환에 대한 부담이 없습니다. 이로 인해 상환 계획 없이 즉시 결제가 가능한 카드를 원하는 소비자에게 유리합니다.\n",
    "    간편한 관리 선호자: 체크카드는 신용카드에 비해 관리가 간편하고, 과소비를 방지하기 위해 필요한 사람에게 적합합니다.\n",
    "    직업이 없는 사람(무직, 백수)는 체크카드가 적합합니다.\n",
    "\n",
    "    기타 고려 사항으로\n",
    "    **연회비 부담**: 신용카드는 카드사마다 연회비가 다르기 때문에 연회비가 부담스러운 사람은 혜택이 좋은 체크카드를 추천할 수 있습니다.\n",
    "    적립 혜택 및 할인율: 신용카드는 다양한 적립 프로그램과 할인 혜택이 있지만, 혜택을 자주 활용하지 않는 소비자에게는 체감 혜택이 적을 수 있으므로 이 점도 고려해야 합니다.\n",
    "\n",
    "    **답변은 단답으로 정확히 체크카드 아니면 신용카드 로만 대답하십시오.**'''\n",
    "\n",
    "    # 유저의 페르소나를 탐색하여 먼저 체크카드를 추천해야할지, 신용카드를 추천해야할지 선정\n",
    "    choice = client.chat.completions.create(model='gpt-3.5-turbo',\n",
    "                                                messages=[{'role':'system','content':content},\n",
    "                                                        {'role':'user','content':user_query}],\n",
    "                                                        temperature=0)\n",
    "\n",
    "    # 신용카드 또는 체크카드를 what_card에 저장\n",
    "    what_card = choice.choices[0].message.content\n",
    "\n",
    "    return what_card"
   ]
  },
  {
   "cell_type": "code",
   "execution_count": 154,
   "metadata": {},
   "outputs": [],
   "source": [
    "def find_similar_cards(card_choice, query, top_k=3):\n",
    "    \"\"\"사용자의 질문과 유사한 카드 찾기\"\"\"\n",
    "    # 사용자의 질문을 벡터로 변환\n",
    "    query_vector = model.encode(query).reshape(1, -1)\n",
    "    query_vector = query_vector / np.linalg.norm(query_vector)\n",
    "\n",
    "    # 카드가 체크카드 일때\n",
    "    if card_choice == \"체크카드\":\n",
    "        distances, indices = check_index.search(np.array(query_vector), top_k)\n",
    "        print(indices)\n",
    "\n",
    "        content = \"당신은 체크카드 추천 전문가입니다. 사용자의 습관에 맞춰 가장 효율적인 카드를 추천합니다.\"\n",
    "\n",
    "        results = []\n",
    "        for idx in indices[0]:\n",
    "            results.append(check_card_data[idx])\n",
    "    \n",
    "        return results, content\n",
    "    \n",
    "    # 카드가 신용카드 일때\n",
    "    elif card_choice == \"신용카드\":\n",
    "        distances, indices = credit_index.search(np.array(query_vector), top_k)\n",
    "        print(indices)\n",
    "\n",
    "        content = \"당신은 신용카드 추천 전문가입니다. 사용자의 습관에 맞춰 가장 효율적인 카드를 추천합니다.\"\n",
    "\n",
    "        results = []\n",
    "        for idx in indices[0]:\n",
    "            results.append(credit_card_data[idx])\n",
    "    \n",
    "        return results, content\n",
    "\n",
    "\n",
    "def recommend_card_RAG(card_choice, user_query, recommend_template):\n",
    "    \"\"\"검색된 카드 정보를 활용해 GPT 모델로 응답 생성\"\"\"\n",
    "    similar_cards, content = find_similar_cards(card_choice, user_query, 1)\n",
    "\n",
    "    # 검색된 카드 정보를 프롬프트에 추가\n",
    "    card_details = [card for card in similar_cards]\n",
    "\n",
    "    prompt = f\"\"\"\n",
    "    카드 추천을 받을 사용자의 페르소나입니다:\n",
    "    \"{user_query}\"\n",
    "    \n",
    "    아래는 추천할 카드의 정보입니다:\n",
    "    {card_details}\n",
    "    \n",
    "    사용자의 질문을 바탕으로 가장 적절한 카드를 추천하고, 다음 작성 양식으로 작성해주세요.:\n",
    "    {recommend_template}\n",
    "    \"\"\"\n",
    "\n",
    "    # OpenAI GPT 호출\n",
    "    completion = client.chat.completions.create(\n",
    "        model=\"gpt-3.5-turbo\",\n",
    "        messages=[{\"role\": \"system\", \"content\": content},\n",
    "                  {\"role\": \"user\", \"content\": prompt}]\n",
    "    )\n",
    "\n",
    "    return completion.choices[0].message.content"
   ]
  },
  {
   "cell_type": "code",
   "execution_count": 162,
   "metadata": {},
   "outputs": [
    {
     "name": "stdout",
     "output_type": "stream",
     "text": [
      "[[-1]]\n",
      "- 추천 카드 : **현대백화점카드**\n",
      "- 혜택 요약 : 현대백화점 5% 할인, 현대백화점 2시간 무료 주차, 3개월 무이자 할부\n",
      "- 연회비 : 국내전용 없음\n",
      "\n",
      "- 주요 혜택(매칭) :\n",
      "    - 현대백화점 5% 할인 : 주말에 주된 취미가 쇼핑이므로 현대백화점의 할인 혜택이 적합합니다.\n",
      "    - 현대백화점 2시간 무료 주차 : 주말 쇼핑 시 자동차를 이용할 가능성이 높으므로 주차 혜택이 유용합니다.\n",
      "        \n",
      "- 매칭되지 않은 혜택 : 3개월 무이자 할부\n",
      "    \n",
      "이 카드는 주말 쇼핑 시 현대백화점의 할인 혜택과 무료 주차 혜택이 활용되며, 추가적으로 3개월 무이자 할부 혜택으로 여행 경비를 분할 지불할 수 있어 효율적입니다.\n",
      "\n",
      "이 사용자의 생활 습관과 필요에 가장 적합한 신용카드를 추천하기 위해 다음과 같은 혜택을 고려할 수 있습니다:\n",
      "\n",
      "1) **카페 및 스트리밍 서비스 할인** : 매일 출근 전 카페에서 커피를 마시며 출근할 때 스트리밍 서비스를 이용하기 때문에 카페 할인 및 스트리밍 서비스 관련 혜택이 있는 카드를 고려할 수 있습니다.\n",
      "2) **해외여행 혜택** : 1달에 2박3일정도 해외여행을 다니는 습관이 있으므로 해외결제 시 혜택이 있는 카드를 고려해보세요.\n"
     ]
    }
   ],
   "source": [
    "user_input = \"28세 사회 초년생으로, 매일 출근 전 오전 8시에 스타벅스에서 커피를 사며, 출근 할 때 스트리밍서비스를 주로 시청하며 이동한다. 주말에는 쇼핑이 주된 취미이며, 1달에 2박3일정도 해외여행을 다닌다.\"\n",
    "card_choice= recommend_whatcard(user_input)\n",
    "\n",
    "RAG_response = recommend_card_RAG(card_choice, user_input, base_template)\n",
    "print(RAG_response)"
   ]
  },
  {
   "cell_type": "code",
   "execution_count": null,
   "metadata": {},
   "outputs": [],
   "source": [
    "answer_b_RAG = [recommend_card_RAG(card_choice, user_input, base_template) for _ in tqdm(range(15))]\n",
    "print(answer_b_RAG)"
   ]
  },
  {
   "cell_type": "code",
   "execution_count": 166,
   "metadata": {},
   "outputs": [
    {
     "name": "stderr",
     "output_type": "stream",
     "text": [
      "100%|██████████| 15/15 [06:54<00:00, 27.60s/it]"
     ]
    },
    {
     "name": "stdout",
     "output_type": "stream",
     "text": [
      "Wins : 14\n",
      "Losses : 1\n",
      "Ties : 0\n"
     ]
    },
    {
     "name": "stderr",
     "output_type": "stream",
     "text": [
      "\n"
     ]
    }
   ],
   "source": [
    "#1shot모델과 RAG사용모델의 비교 평가 진행\n",
    "wins, losess, ties = pairwise_eval_batch(answer_a_1shot, answer_b_RAG)\n",
    "print(f'Wins : {wins}\\nLosses : {losess}\\nTies : {ties}')"
   ]
  },
  {
   "cell_type": "code",
   "execution_count": null,
   "metadata": {},
   "outputs": [],
   "source": []
  },
  {
   "cell_type": "code",
   "execution_count": null,
   "metadata": {},
   "outputs": [],
   "source": []
  },
  {
   "cell_type": "code",
   "execution_count": null,
   "metadata": {},
   "outputs": [],
   "source": []
  },
  {
   "cell_type": "code",
   "execution_count": null,
   "metadata": {},
   "outputs": [],
   "source": []
  },
  {
   "cell_type": "code",
   "execution_count": null,
   "metadata": {},
   "outputs": [],
   "source": []
  },
  {
   "cell_type": "code",
   "execution_count": null,
   "metadata": {},
   "outputs": [],
   "source": []
  },
  {
   "cell_type": "code",
   "execution_count": null,
   "metadata": {},
   "outputs": [],
   "source": []
  },
  {
   "cell_type": "code",
   "execution_count": null,
   "metadata": {},
   "outputs": [],
   "source": []
  },
  {
   "cell_type": "code",
   "execution_count": null,
   "metadata": {},
   "outputs": [],
   "source": []
  },
  {
   "cell_type": "markdown",
   "metadata": {},
   "source": [
    "### 데이터 전처리 및 저장"
   ]
  },
  {
   "cell_type": "code",
   "execution_count": null,
   "metadata": {},
   "outputs": [],
   "source": [
    "# # 유의사항, 기타 항목 제거\n",
    "# for i in range(len(credit_card_data)):\n",
    "#     for k, v in credit_card_data[i].items():\n",
    "#         v['주요 혜택'] = {sub_k: sub_v for sub_k, sub_v in v['주요 혜택'].items() if sub_k not in ['유의사항', '기타']}\n"
   ]
  },
  {
   "cell_type": "code",
   "execution_count": null,
   "metadata": {},
   "outputs": [],
   "source": [
    "# # 이미지 파일 명에서 코드 항목만 추출하여 코드를 검색하여 이미지를 찾을 수 있게 수정\n",
    "\n",
    "# for i in range(len(credit_card_data)):\n",
    "#     for k, v in credit_card_data[i].items():\n",
    "#         file_name = v['카드 이미지'].split('\\\\')[1]  # 파일명 추출\n",
    "\n",
    "#         match = re.search(r'(\\d+)[a-zA-Z]', file_name)\n",
    "#         if match:\n",
    "#             extracted_number = match.group(1)  # \"2749\"\n",
    "            \n",
    "#             del v['카드 이미지']  # '카드 이미지' 항목 제거\n",
    "#             v['code'] = extracted_number  # 새로운 'code' 항목 생성"
   ]
  },
  {
   "cell_type": "code",
   "execution_count": null,
   "metadata": {},
   "outputs": [],
   "source": [
    "# # 주요 혜택 카테고리의 대괄호(부연 설명) 제거\n",
    "# for i in range(len(credit_card_data)):\n",
    "#     for k, v in credit_card_data[i].items():\n",
    "#         for sub_k, sub_v in v['주요 혜택'].items():\n",
    "#             v['주요 혜택'][sub_k] = re.sub(r'\\[.*?\\]\\s*', '', sub_v)\n",
    "        "
   ]
  },
  {
   "cell_type": "code",
   "execution_count": null,
   "metadata": {},
   "outputs": [],
   "source": [
    "# # 주요 혜택 카테고리의 소괄호(부연 설명) 제거 (체크)\n",
    "# for i in range(len(check_card_data)):\n",
    "#     for k, v in check_card_data[i].items():\n",
    "#         v['연회비 상세안내'] = re.sub(r'\\(.*?\\)\\s*', '', v['연회비 상세안내'])\n",
    "        "
   ]
  },
  {
   "cell_type": "code",
   "execution_count": null,
   "metadata": {},
   "outputs": [],
   "source": [
    "# # 주요 혜택 카테고리의 소괄호(부연 설명) 제거 (신용)\n",
    "# for i in range(len(credit_card_data)):\n",
    "#     for k, v in credit_card_data[i].items():\n",
    "#         v['혜택 요약'] = re.sub(r'\\(.*?\\)\\s*', '', v['혜택 요약'])"
   ]
  },
  {
   "cell_type": "code",
   "execution_count": null,
   "metadata": {},
   "outputs": [],
   "source": [
    "# 데이터를 변환하는 함수 (ver-5)\n",
    "# jq_schema를 위한 딕셔너리 구조 변환\n",
    "def transform_data(data):\n",
    "    transformed_data = []\n",
    "    \n",
    "    for card_data in data:\n",
    "        for card_name, details in card_data.items():\n",
    "            transformed_data.append({\n",
    "                \"카드명\": card_name,\n",
    "                \"혜택 요약\": details[\"혜택 요약\"],\n",
    "                \"연회비 상세안내\": details[\"연회비 상세안내\"],\n",
    "                \"주요 혜택\": details[\"주요 혜택\"],\n",
    "                \"code\": details[\"code\"]\n",
    "            })\n",
    "    \n",
    "    return transformed_data\n",
    "\n",
    "# 변환된 데이터\n",
    "credit_transformed_data = transform_data(credit_card_data)\n",
    "check_transformed_data = transform_data(check_card_data)"
   ]
  },
  {
   "cell_type": "code",
   "execution_count": null,
   "metadata": {},
   "outputs": [],
   "source": [
    "# with open('data/check_card_info-ver-5.json', 'w', encoding='utf-8') as json_file:\n",
    "#     json.dump(check_transformed_data, json_file, ensure_ascii=False, indent=4)\n",
    "\n",
    "# with open('data/credit_card_info-ver-5.json', 'w', encoding='utf-8') as json_file:\n",
    "#     json.dump(credit_transformed_data, json_file, ensure_ascii=False, indent=4)"
   ]
  },
  {
   "cell_type": "code",
   "execution_count": null,
   "metadata": {},
   "outputs": [],
   "source": []
  }
 ],
 "metadata": {
  "kernelspec": {
   "display_name": "new",
   "language": "python",
   "name": "python3"
  },
  "language_info": {
   "codemirror_mode": {
    "name": "ipython",
    "version": 3
   },
   "file_extension": ".py",
   "mimetype": "text/x-python",
   "name": "python",
   "nbconvert_exporter": "python",
   "pygments_lexer": "ipython3",
   "version": "3.12.8"
  }
 },
 "nbformat": 4,
 "nbformat_minor": 2
}
