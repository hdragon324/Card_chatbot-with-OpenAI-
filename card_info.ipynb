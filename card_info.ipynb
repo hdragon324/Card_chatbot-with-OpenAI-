{
 "cells": [
  {
   "cell_type": "code",
   "execution_count": 3,
   "metadata": {},
   "outputs": [],
   "source": [
    "import json\n",
    "from tqdm import tqdm\n",
    "from utils.crawl import card_links_fetch, card_info_fetch"
   ]
  },
  {
   "cell_type": "code",
   "execution_count": null,
   "metadata": {},
   "outputs": [],
   "source": [
    "# result = [card_info_fetch(link) for link in tqdm(card_links_fetch('https://www.card-gorilla.com/chart/top100'))]\n",
    "result = []\n",
    "\n",
    "for link in tqdm(card_links_fetch('https://www.card-gorilla.com/chart/check100')):\n",
    "    try:\n",
    "        result.append(card_info_fetch(link))\n",
    "    except:\n",
    "        print(link)"
   ]
  },
  {
   "cell_type": "code",
   "execution_count": 15,
   "metadata": {},
   "outputs": [
    {
     "name": "stdout",
     "output_type": "stream",
     "text": [
      "Downloaded: card_image/check_card\\2582card.png\n"
     ]
    },
    {
     "data": {
      "text/plain": [
       "100"
      ]
     },
     "execution_count": 15,
     "metadata": {},
     "output_type": "execute_result"
    }
   ],
   "source": [
    "result.append(card_info_fetch('https://www.card-gorilla.com/card/detail/2582'))\n",
    "len(result)"
   ]
  },
  {
   "cell_type": "code",
   "execution_count": null,
   "metadata": {},
   "outputs": [],
   "source": [
    "# # 파일에 JSON 형식으로 저장\n",
    "# with open('data/check_card_info.json', 'w', encoding='utf-8') as json_file:\n",
    "#     json.dump(result, json_file, ensure_ascii=False, indent=4)"
   ]
  },
  {
   "cell_type": "code",
   "execution_count": null,
   "metadata": {},
   "outputs": [],
   "source": []
  }
 ],
 "metadata": {
  "kernelspec": {
   "display_name": "new",
   "language": "python",
   "name": "python3"
  },
  "language_info": {
   "codemirror_mode": {
    "name": "ipython",
    "version": 3
   },
   "file_extension": ".py",
   "mimetype": "text/x-python",
   "name": "python",
   "nbconvert_exporter": "python",
   "pygments_lexer": "ipython3",
   "version": "3.12.8"
  }
 },
 "nbformat": 4,
 "nbformat_minor": 2
}
