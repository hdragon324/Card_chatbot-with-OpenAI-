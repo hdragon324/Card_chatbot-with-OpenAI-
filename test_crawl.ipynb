{
 "cells": [
  {
   "cell_type": "code",
   "execution_count": 186,
   "metadata": {},
   "outputs": [],
   "source": [
    "from utils.crawl import card_links_fetch"
   ]
  },
  {
   "cell_type": "code",
   "execution_count": 172,
   "metadata": {},
   "outputs": [
    {
     "name": "stdout",
     "output_type": "stream",
     "text": [
      "카드의 개수 : 100\n"
     ]
    },
    {
     "data": {
      "text/plain": [
       "['https://www.card-gorilla.com/card/detail/13',\n",
       " 'https://www.card-gorilla.com/card/detail/51',\n",
       " 'https://www.card-gorilla.com/card/detail/49',\n",
       " 'https://www.card-gorilla.com/card/detail/2261',\n",
       " 'https://www.card-gorilla.com/card/detail/2441',\n",
       " 'https://www.card-gorilla.com/card/detail/2330',\n",
       " 'https://www.card-gorilla.com/card/detail/2553',\n",
       " 'https://www.card-gorilla.com/card/detail/2669',\n",
       " 'https://www.card-gorilla.com/card/detail/2759',\n",
       " 'https://www.card-gorilla.com/card/detail/39',\n",
       " 'https://www.card-gorilla.com/card/detail/2376',\n",
       " 'https://www.card-gorilla.com/card/detail/2657',\n",
       " 'https://www.card-gorilla.com/card/detail/666',\n",
       " 'https://www.card-gorilla.com/card/detail/2346',\n",
       " 'https://www.card-gorilla.com/card/detail/2692',\n",
       " 'https://www.card-gorilla.com/card/detail/2655',\n",
       " 'https://www.card-gorilla.com/card/detail/2646',\n",
       " 'https://www.card-gorilla.com/card/detail/2632',\n",
       " 'https://www.card-gorilla.com/card/detail/2237',\n",
       " 'https://www.card-gorilla.com/card/detail/634',\n",
       " 'https://www.card-gorilla.com/card/detail/37',\n",
       " 'https://www.card-gorilla.com/card/detail/2662',\n",
       " 'https://www.card-gorilla.com/card/detail/2697',\n",
       " 'https://www.card-gorilla.com/card/detail/2676',\n",
       " 'https://www.card-gorilla.com/card/detail/115',\n",
       " 'https://www.card-gorilla.com/card/detail/45',\n",
       " 'https://www.card-gorilla.com/card/detail/2779',\n",
       " 'https://www.card-gorilla.com/card/detail/2719',\n",
       " 'https://www.card-gorilla.com/card/detail/2663',\n",
       " 'https://www.card-gorilla.com/card/detail/27',\n",
       " 'https://www.card-gorilla.com/card/detail/466',\n",
       " 'https://www.card-gorilla.com/card/detail/2711',\n",
       " 'https://www.card-gorilla.com/card/detail/16',\n",
       " 'https://www.card-gorilla.com/card/detail/2687',\n",
       " 'https://www.card-gorilla.com/card/detail/2234',\n",
       " 'https://www.card-gorilla.com/card/detail/635',\n",
       " 'https://www.card-gorilla.com/card/detail/2591',\n",
       " 'https://www.card-gorilla.com/card/detail/131',\n",
       " 'https://www.card-gorilla.com/card/detail/121',\n",
       " 'https://www.card-gorilla.com/card/detail/2654',\n",
       " 'https://www.card-gorilla.com/card/detail/772',\n",
       " 'https://www.card-gorilla.com/card/detail/2666',\n",
       " 'https://www.card-gorilla.com/card/detail/657',\n",
       " 'https://www.card-gorilla.com/card/detail/2636',\n",
       " 'https://www.card-gorilla.com/card/detail/2728',\n",
       " 'https://www.card-gorilla.com/card/detail/2683',\n",
       " 'https://www.card-gorilla.com/card/detail/2674',\n",
       " 'https://www.card-gorilla.com/card/detail/2690',\n",
       " 'https://www.card-gorilla.com/card/detail/2235',\n",
       " 'https://www.card-gorilla.com/card/detail/2707',\n",
       " 'https://www.card-gorilla.com/card/detail/227',\n",
       " 'https://www.card-gorilla.com/card/detail/2703',\n",
       " 'https://www.card-gorilla.com/card/detail/2647',\n",
       " 'https://www.card-gorilla.com/card/detail/2427',\n",
       " 'https://www.card-gorilla.com/card/detail/2559',\n",
       " 'https://www.card-gorilla.com/card/detail/2460',\n",
       " 'https://www.card-gorilla.com/card/detail/146',\n",
       " 'https://www.card-gorilla.com/card/detail/432',\n",
       " 'https://www.card-gorilla.com/card/detail/2694',\n",
       " 'https://www.card-gorilla.com/card/detail/2613',\n",
       " 'https://www.card-gorilla.com/card/detail/769',\n",
       " 'https://www.card-gorilla.com/card/detail/2794',\n",
       " 'https://www.card-gorilla.com/card/detail/2461',\n",
       " 'https://www.card-gorilla.com/card/detail/2737',\n",
       " 'https://www.card-gorilla.com/card/detail/718',\n",
       " 'https://www.card-gorilla.com/card/detail/2609',\n",
       " 'https://www.card-gorilla.com/card/detail/2644',\n",
       " 'https://www.card-gorilla.com/card/detail/2753',\n",
       " 'https://www.card-gorilla.com/card/detail/458',\n",
       " 'https://www.card-gorilla.com/card/detail/2262',\n",
       " 'https://www.card-gorilla.com/card/detail/2569',\n",
       " 'https://www.card-gorilla.com/card/detail/41',\n",
       " 'https://www.card-gorilla.com/card/detail/2732',\n",
       " 'https://www.card-gorilla.com/card/detail/654',\n",
       " 'https://www.card-gorilla.com/card/detail/258',\n",
       " 'https://www.card-gorilla.com/card/detail/64',\n",
       " 'https://www.card-gorilla.com/card/detail/2735',\n",
       " 'https://www.card-gorilla.comNone',\n",
       " 'https://www.card-gorilla.com/card/detail/2451',\n",
       " 'https://www.card-gorilla.com/card/detail/2778',\n",
       " 'https://www.card-gorilla.com/card/detail/129',\n",
       " 'https://www.card-gorilla.com/card/detail/2458',\n",
       " 'https://www.card-gorilla.com/card/detail/2344',\n",
       " 'https://www.card-gorilla.com/card/detail/2714',\n",
       " 'https://www.card-gorilla.com/card/detail/2347',\n",
       " 'https://www.card-gorilla.com/card/detail/2752',\n",
       " 'https://www.card-gorilla.com/card/detail/2731',\n",
       " 'https://www.card-gorilla.com/card/detail/2406',\n",
       " 'https://www.card-gorilla.com/card/detail/2290',\n",
       " 'https://www.card-gorilla.com/card/detail/2386',\n",
       " 'https://www.card-gorilla.com/card/detail/2710',\n",
       " 'https://www.card-gorilla.com/card/detail/2349',\n",
       " 'https://www.card-gorilla.com/card/detail/15',\n",
       " 'https://www.card-gorilla.com/card/detail/2680',\n",
       " 'https://www.card-gorilla.com/card/detail/716',\n",
       " 'https://www.card-gorilla.com/card/detail/2705',\n",
       " 'https://www.card-gorilla.com/card/detail/2612',\n",
       " 'https://www.card-gorilla.com/card/detail/2453',\n",
       " 'https://www.card-gorilla.com/card/detail/2305',\n",
       " 'https://www.card-gorilla.com/card/detail/2593']"
      ]
     },
     "execution_count": 172,
     "metadata": {},
     "output_type": "execute_result"
    }
   ],
   "source": [
    "card_links_fetch('https://www.card-gorilla.com/chart/top100')"
   ]
  },
  {
   "cell_type": "code",
   "execution_count": null,
   "metadata": {},
   "outputs": [],
   "source": []
  }
 ],
 "metadata": {
  "kernelspec": {
   "display_name": "new",
   "language": "python",
   "name": "python3"
  },
  "language_info": {
   "codemirror_mode": {
    "name": "ipython",
    "version": 3
   },
   "file_extension": ".py",
   "mimetype": "text/x-python",
   "name": "python",
   "nbconvert_exporter": "python",
   "pygments_lexer": "ipython3",
   "version": "3.12.8"
  }
 },
 "nbformat": 4,
 "nbformat_minor": 2
}
